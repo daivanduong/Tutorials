{
  "nbformat": 4,
  "nbformat_minor": 0,
  "metadata": {
    "colab": {
      "name": "Low level APIs.ipynb",
      "version": "0.3.2",
      "provenance": []
    },
    "kernelspec": {
      "name": "python3",
      "display_name": "Python 3"
    }
  },
  "cells": [
    {
      "metadata": {
        "id": "9V2yUqHc8P21",
        "colab_type": "code",
        "colab": {}
      },
      "cell_type": "code",
      "source": [
        "# import TensorFlow\n",
        "import tensorflow as tf\n"
      ],
      "execution_count": 0,
      "outputs": []
    },
    {
      "metadata": {
        "id": "5-dHlKAD816y",
        "colab_type": "code",
        "outputId": "f8bbe3e6-8ff3-4efd-d9e2-cce2f91e0fa9",
        "colab": {
          "base_uri": "https://localhost:8080/",
          "height": 51
        }
      },
      "cell_type": "code",
      "source": [
        "# Define a Tensor with rank=2 (Matrix)\n",
        "matrixTF=tf.constant([[2, 5, 8] , [3, 5, 9]])\n",
        "\n",
        "# Get rank and shape of a Tensor\n",
        "matrix_rank=tf.rank(matrixTF)\n",
        "matrix_shape=tf.shape(matrixTF)\n",
        "\n",
        "# Run a session\n",
        "with tf.Session() as sess:\n",
        "  print(sess.run(matrix_rank))\n",
        "  print(sess.run(matrix_shape))"
      ],
      "execution_count": 47,
      "outputs": [
        {
          "output_type": "stream",
          "text": [
            "2\n",
            "[2 3]\n"
          ],
          "name": "stdout"
        }
      ]
    },
    {
      "metadata": {
        "id": "-vrZs9tNCIEN",
        "colab_type": "code",
        "outputId": "7b21b3d2-62cc-4b91-da88-649bcf23f925",
        "colab": {
          "base_uri": "https://localhost:8080/",
          "height": 102
        }
      },
      "cell_type": "code",
      "source": [
        "# Define TensorFlow Graph \n",
        "a=tf.constant(5)\n",
        "b=tf.constant(3)\n",
        "c=tf.multiply(a,b)\n",
        "d=tf.add(a,b)\n",
        "e=tf.add(c,d)\n",
        "\n",
        "print(a)\n",
        "print(b)\n",
        "print(c)\n",
        "print(d)\n",
        "print(e)"
      ],
      "execution_count": 3,
      "outputs": [
        {
          "output_type": "stream",
          "text": [
            "Tensor(\"Const_2:0\", shape=(), dtype=int32)\n",
            "Tensor(\"Const_3:0\", shape=(), dtype=int32)\n",
            "Tensor(\"Mul_1:0\", shape=(), dtype=int32)\n",
            "Tensor(\"Add_2:0\", shape=(), dtype=int32)\n",
            "Tensor(\"Add_3:0\", shape=(), dtype=int32)\n"
          ],
          "name": "stdout"
        }
      ]
    },
    {
      "metadata": {
        "id": "nwQtMMb9RrIE",
        "colab_type": "code",
        "colab": {
          "base_uri": "https://localhost:8080/",
          "height": 102
        },
        "outputId": "0d134bfb-8e24-4b46-9568-2af0031cf396"
      },
      "cell_type": "code",
      "source": [
        "# Run the Graph using Session\n",
        "with tf.Session() as sess:\n",
        "  print(\"The value of a: \", sess.run(a))\n",
        "  print(\"The value of b: \", sess.run(b))\n",
        "  print(\"The value of c: \", sess.run(c))\n",
        "  print(\"The value of d: \", sess.run(d))\n",
        "  print(\"The value of e: \", sess.run(e))"
      ],
      "execution_count": 6,
      "outputs": [
        {
          "output_type": "stream",
          "text": [
            "The value of a:  5\n",
            "The value of b:  3\n",
            "The value of c:  15\n",
            "The value of d:  8\n",
            "The value of e:  23\n"
          ],
          "name": "stdout"
        }
      ]
    },
    {
      "metadata": {
        "id": "SGIZSQjaaP_u",
        "colab_type": "code",
        "colab": {}
      },
      "cell_type": "code",
      "source": [
        "# Define variables\n",
        "var1=tf.Variable([2, 5, 8],\"Variable1\")\n",
        "var2=tf.get_variable(\"Variable2\",initializer=tf.constant([2, 5, 8]))\n",
        "var3=tf.get_variable(\"Variable3\",shape=(2,8),initializer=tf.zeros_initializer)"
      ],
      "execution_count": 0,
      "outputs": []
    },
    {
      "metadata": {
        "id": "a5GVombzdp3g",
        "colab_type": "code",
        "colab": {
          "base_uri": "https://localhost:8080/",
          "height": 102
        },
        "outputId": "136bcc72-05f4-44d2-b8e2-392afe26fe49"
      },
      "cell_type": "code",
      "source": [
        "# Initialise all variables in session  \n",
        "with tf.Session() as sess:\n",
        "  sess.run(tf.global_variables_initializer())\n",
        "  print(\"The value of var3: \", sess.run(var3))  \n",
        "\n",
        "# Initialise a specific variables in session    \n",
        "with tf.Session() as sess:\n",
        "  sess.run(var2.initializer)\n",
        "  print(\"The value of var2: \",sess.run(var2))\n",
        "  \n",
        "  # Perform somes operations on var2\n",
        "  print(\"Assign new value to var2: \",sess.run(var2.assign([2,6,7])))\n",
        "  print(\"Add 1 to var2: \",sess.run(var2+1))"
      ],
      "execution_count": 39,
      "outputs": [
        {
          "output_type": "stream",
          "text": [
            "The value of var3:  [[0. 0. 0. 0. 0. 0. 0. 0.]\n",
            " [0. 0. 0. 0. 0. 0. 0. 0.]]\n",
            "The value of var2:  [2 5 8]\n",
            "Assign new value to var2:  [2 6 7]\n",
            "Add 1 to var2:  [3 7 8]\n"
          ],
          "name": "stdout"
        }
      ]
    },
    {
      "metadata": {
        "id": "bD2O218Eobc0",
        "colab_type": "code",
        "colab": {
          "base_uri": "https://localhost:8080/",
          "height": 68
        },
        "outputId": "3b26237a-fcc7-4424-cdec-589e7e7922c7"
      },
      "cell_type": "code",
      "source": [
        "# Define Placeholder\n",
        "placeholder1=tf.placeholder(tf.int32)\n",
        "placeholder2=tf.placeholder(tf.int32)\n",
        "result=tf.multiply(placeholder1,placeholder2)\n",
        "\n",
        "with tf.Session() as sess:\n",
        "  # Set value of placeholder1, placeholder2 using different shape\n",
        "  print(sess.run(result, feed_dict={placeholder1:5,placeholder2:10}))\n",
        "  print(sess.run(result, feed_dict={placeholder1:[2,7],placeholder2:6}))\n",
        "  print(sess.run(result, feed_dict={placeholder1:[2,7],placeholder2:[7,8]}))"
      ],
      "execution_count": 45,
      "outputs": [
        {
          "output_type": "stream",
          "text": [
            "50\n",
            "[12 42]\n",
            "[14 56]\n"
          ],
          "name": "stdout"
        }
      ]
    },
    {
      "metadata": {
        "id": "Fp1kj2zddmcZ",
        "colab_type": "code",
        "colab": {}
      },
      "cell_type": "code",
      "source": [
        ""
      ],
      "execution_count": 0,
      "outputs": []
    }
  ]
}